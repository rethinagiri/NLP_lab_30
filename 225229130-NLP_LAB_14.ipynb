{
 "cells": [
  {
   "cell_type": "markdown",
   "id": "8c7e03b2",
   "metadata": {},
   "source": [
    "## NAME : RETHINAGIRI G\n",
    "## ROLL NO : 225229130\n",
    "## COURSE TITLE : NATURAL LANGUAGE PRE-PROCESSING LAB"
   ]
  },
  {
   "cell_type": "markdown",
   "id": "3a1fefa2",
   "metadata": {},
   "source": [
    "### Lab 14: Word Sense Disambiguation with Improved Lesk Algorithm"
   ]
  },
  {
   "cell_type": "markdown",
   "id": "8044065c",
   "metadata": {},
   "source": [
    "## "
   ]
  },
  {
   "cell_type": "markdown",
   "id": "a5426b58",
   "metadata": {},
   "source": [
    "### Exercise-1"
   ]
  },
  {
   "cell_type": "markdown",
   "id": "2fa0859b",
   "metadata": {},
   "source": [
    "#### Lesk algorithms syntax:\n",
    "   #### lesk(context_sentence,ambiguous_word,pos=None,synsets=None)"
   ]
  },
  {
   "cell_type": "code",
   "execution_count": 1,
   "id": "c9a6a87b",
   "metadata": {},
   "outputs": [
    {
     "name": "stderr",
     "output_type": "stream",
     "text": [
      "[nltk_data] Downloading package wordnet to\n",
      "[nltk_data]     C:\\Users\\user\\AppData\\Roaming\\nltk_data...\n",
      "[nltk_data]   Package wordnet is already up-to-date!\n"
     ]
    },
    {
     "data": {
      "text/plain": [
       "True"
      ]
     },
     "execution_count": 1,
     "metadata": {},
     "output_type": "execute_result"
    }
   ],
   "source": [
    "import nltk\n",
    "from nltk.wsd import lesk\n",
    "from nltk.corpus import wordnet as wn\n",
    "nltk.download('wordnet')"
   ]
  },
  {
   "cell_type": "code",
   "execution_count": 2,
   "id": "2ca50a42",
   "metadata": {},
   "outputs": [
    {
     "name": "stdout",
     "output_type": "stream",
     "text": [
      "Synset('bass.n.01') the lowest part of the musical range\n",
      "Synset('bass.n.02') the lowest part in polyphonic music\n",
      "Synset('bass.n.03') an adult male singer with the lowest voice\n",
      "Synset('sea_bass.n.01') the lean flesh of a saltwater fish of the family Serranidae\n",
      "Synset('freshwater_bass.n.01') any of various North American freshwater fish with lean flesh (especially of the genus Micropterus)\n",
      "Synset('bass.n.06') the lowest adult male singing voice\n",
      "Synset('bass.n.07') the member with the lowest range of a family of musical instruments\n",
      "Synset('bass.n.08') nontechnical name for any of numerous edible marine and freshwater spiny-finned fishes\n",
      "Synset('bass.s.01') having or denoting a low vocal or instrumental range\n"
     ]
    }
   ],
   "source": [
    "for ss in wn.synsets('bass'):\n",
    "    print(ss,ss.definition())"
   ]
  },
  {
   "cell_type": "code",
   "execution_count": 3,
   "id": "c8bc1fbf",
   "metadata": {},
   "outputs": [
    {
     "name": "stdout",
     "output_type": "stream",
     "text": [
      "Synset('bass.n.08')\n"
     ]
    }
   ],
   "source": [
    "print(lesk('I went fishing for some sea bass'.split(),'bass','n'))"
   ]
  },
  {
   "cell_type": "code",
   "execution_count": 4,
   "id": "76534fd3",
   "metadata": {},
   "outputs": [
    {
     "name": "stdout",
     "output_type": "stream",
     "text": [
      "Synset('bass.s.01')\n"
     ]
    }
   ],
   "source": [
    "print(lesk('The bass line of the song is too weak'.split(),'bass','s'))"
   ]
  },
  {
   "cell_type": "code",
   "execution_count": 5,
   "id": "ed763904",
   "metadata": {},
   "outputs": [
    {
     "name": "stdout",
     "output_type": "stream",
     "text": [
      "Synset('sea_bass.n.01')\n"
     ]
    }
   ],
   "source": [
    "print(lesk('Avishai Cohen is an Israeli jazz musician. He plays double bass and is also a composer'.split(),\n",
    "           'bass',pos='n'))"
   ]
  },
  {
   "cell_type": "markdown",
   "id": "5e9fcce6",
   "metadata": {},
   "source": [
    "### Exercise-2"
   ]
  },
  {
   "cell_type": "code",
   "execution_count": 6,
   "id": "c41426f4",
   "metadata": {},
   "outputs": [
    {
     "name": "stdout",
     "output_type": "stream",
     "text": [
      "Synset('chair.n.01') a seat for one person, with a support for the back\n",
      "Synset('professorship.n.01') the position of professor\n",
      "Synset('president.n.04') the officer who presides at the meetings of an organization\n",
      "Synset('electric_chair.n.01') an instrument of execution by electrocution; resembles an ordinary seat for one person\n",
      "Synset('chair.n.05') a particular seat in an orchestra\n",
      "Synset('chair.v.01') act or preside as chair, as of an academic department in a university\n",
      "Synset('moderate.v.01') preside over\n"
     ]
    }
   ],
   "source": [
    "for ss in wn.synsets('chair'):\n",
    "    print(ss,ss.definition())"
   ]
  },
  {
   "cell_type": "code",
   "execution_count": 7,
   "id": "62f65fa4",
   "metadata": {},
   "outputs": [
    {
     "name": "stdout",
     "output_type": "stream",
     "text": [
      "Synset('chair.n.01')\n"
     ]
    }
   ],
   "source": [
    "syn = wn.synsets('chair')[0]\n",
    "print(syn)"
   ]
  },
  {
   "cell_type": "code",
   "execution_count": 8,
   "id": "7df02e37",
   "metadata": {},
   "outputs": [
    {
     "name": "stdout",
     "output_type": "stream",
     "text": [
      "Synset name :  chair.n.01\n",
      "Synset hypernym :  [Synset('seat.n.03')]\n"
     ]
    }
   ],
   "source": [
    "print (\"Synset name : \", syn.name())\n",
    "\n",
    "print (\"Synset hypernym : \", syn.hypernyms())"
   ]
  },
  {
   "cell_type": "code",
   "execution_count": 9,
   "id": "e1cfd530",
   "metadata": {},
   "outputs": [
    {
     "name": "stdout",
     "output_type": "stream",
     "text": [
      "Synset  hyper-hypernym :  <bound method Synset.root_hypernyms of Synset('chair.n.01')>\n"
     ]
    }
   ],
   "source": [
    "print (\"Synset  hyper-hypernym : \", syn.root_hypernyms)"
   ]
  },
  {
   "cell_type": "markdown",
   "id": "f5c2e263",
   "metadata": {},
   "source": [
    "### Exercise-3"
   ]
  },
  {
   "cell_type": "code",
   "execution_count": 10,
   "id": "79375536",
   "metadata": {},
   "outputs": [],
   "source": [
    "from nltk.corpus import wordnet as wn\n",
    "from nltk.stem import PorterStemmer\n",
    "from itertools import chain"
   ]
  },
  {
   "cell_type": "code",
   "execution_count": 11,
   "id": "05d379ad",
   "metadata": {},
   "outputs": [],
   "source": [
    "bank_sents=['I went to the bank to deposit my money','The river bank was full of dead fishes']\n",
    "plant_sents = ['The workers at the industrial plant were overworked','The plant were overworked']\n",
    "ps = PorterStemmer()"
   ]
  },
  {
   "cell_type": "code",
   "execution_count": 12,
   "id": "f8824055",
   "metadata": {},
   "outputs": [],
   "source": [
    "def my_lesk(context_sentence, ambiguous_word,pos=None, \n",
    "            stem=True, hyperhypo=True):\n",
    "    max_overlaps = 0\n",
    "    lesk_sense = None\n",
    "    context_sentence = context_sentence.split()\n",
    "    for ss in wn.synsets(ambiguous_word):\n",
    "     # If POS is specified.\n",
    "        if pos and ss.pos is not pos:\n",
    "            continue\n",
    "        lesk_dictionary = []\n",
    "\n",
    "     # Includes definition.\n",
    "        defns = ss.definition().split()\n",
    "        lesk_dictionary += defns\n",
    "\n",
    "     # Includes lemma_names.\n",
    "        lesk_dictionary += ss.lemma_names()\n",
    "\n",
    "     # Optional: includes lemma_names of hypernyms and hyponyms.\n",
    "        if hyperhypo == True:\n",
    "            hhwords = ss.hypernyms() + ss.hyponyms()\n",
    "            lesk_dictionary += list(chain(*[w.lemma_names() for w in hhwords] ))\n",
    "\n",
    "     # Matching exact words causes sparsity, so lets match stems.\n",
    "        if stem == True:\n",
    "            lesk_dictionary = [ps.stem(w) for w in lesk_dictionary]\n",
    "            context_sentence = [ps.stem(w) for w in context_sentence]\n",
    "        overlaps = set(lesk_dictionary).intersection(context_sentence)\n",
    "    \n",
    "        if len(overlaps) > max_overlaps:\n",
    "            lesk_sense = ss\n",
    "            max_overlaps = len(overlaps)\n",
    "    return lesk_sense"
   ]
  },
  {
   "cell_type": "code",
   "execution_count": 13,
   "id": "97ad7699",
   "metadata": {},
   "outputs": [
    {
     "name": "stdout",
     "output_type": "stream",
     "text": [
      "Context: I went to the bank to deposit my money\n",
      "Sense: Synset('depository_financial_institution.n.01')\n",
      "Definition: <bound method Synset.definition of Synset('depository_financial_institution.n.01')>\n"
     ]
    }
   ],
   "source": [
    "# evaluate senses\n",
    "\n",
    "print(\"Context:\", bank_sents[0])\n",
    "answer = my_lesk(bank_sents[0],'bank')\n",
    "print(\"Sense:\", answer)\n",
    "print(\"Definition:\",answer.definition)"
   ]
  },
  {
   "cell_type": "code",
   "execution_count": 14,
   "id": "952d378f",
   "metadata": {},
   "outputs": [
    {
     "name": "stdout",
     "output_type": "stream",
     "text": [
      "Context: The river bank was full of dead fishes\n",
      "Sense: Synset('bank.n.01')\n",
      "Definition: <bound method Synset.definition of Synset('bank.n.01')>\n"
     ]
    }
   ],
   "source": [
    "print(\"Context:\", bank_sents[1])\n",
    "answer = my_lesk(bank_sents[1],'bank')\n",
    "print(\"Sense:\", answer)\n",
    "print(\"Definition:\",answer.definition)"
   ]
  },
  {
   "cell_type": "code",
   "execution_count": 15,
   "id": "ba10e1da",
   "metadata": {},
   "outputs": [
    {
     "name": "stdout",
     "output_type": "stream",
     "text": [
      "Context: The workers at the industrial plant were overworked\n",
      "Sense: Synset('savings_bank.n.02')\n",
      "Definition: <bound method Synset.definition of Synset('savings_bank.n.02')>\n"
     ]
    }
   ],
   "source": [
    "print(\"Context:\", plant_sents[0])\n",
    "answer = my_lesk(plant_sents[0],'bank')\n",
    "print(\"Sense:\", answer)\n",
    "print(\"Definition:\",answer.definition)"
   ]
  },
  {
   "cell_type": "markdown",
   "id": "a1f996d3",
   "metadata": {},
   "source": [
    "### Exercise-4"
   ]
  },
  {
   "cell_type": "markdown",
   "id": "0c683acf",
   "metadata": {},
   "source": [
    "#### Learn further examples for synsets at\n",
    "https://www.programcreek.com/python/example/91604/nltk.corpus.wordnet.synsets"
   ]
  }
 ],
 "metadata": {
  "kernelspec": {
   "display_name": "Python 3 (ipykernel)",
   "language": "python",
   "name": "python3"
  },
  "language_info": {
   "codemirror_mode": {
    "name": "ipython",
    "version": 3
   },
   "file_extension": ".py",
   "mimetype": "text/x-python",
   "name": "python",
   "nbconvert_exporter": "python",
   "pygments_lexer": "ipython3",
   "version": "3.9.12"
  }
 },
 "nbformat": 4,
 "nbformat_minor": 5
}
