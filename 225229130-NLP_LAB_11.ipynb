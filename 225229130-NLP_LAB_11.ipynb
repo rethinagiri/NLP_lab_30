{
 "cells": [
  {
   "cell_type": "markdown",
   "id": "ddb73340",
   "metadata": {},
   "source": [
    "#  NAME : RETHINAGIRI G\n",
    "# ROLL NO : 225229130\n",
    "# COURSE TITLE : NATURAL LANGUAGE PRE-PROCESSING LAB\n",
    "#  \n",
    "## LAB_11. Building Parse Trees1"
   ]
  },
  {
   "cell_type": "markdown",
   "id": "363700f3",
   "metadata": {},
   "source": [
    "#### Exercise-I"
   ]
  },
  {
   "cell_type": "code",
   "execution_count": 1,
   "id": "e516b2f7",
   "metadata": {},
   "outputs": [],
   "source": [
    "import nltk,re,pprint\n",
    "from nltk.tree import Tree\n",
    "from nltk.tokenize import word_tokenize\n",
    "from nltk.tag import pos_tag\n",
    "from nltk.chunk import ne_chunk\n",
    "import numpy as npt"
   ]
  },
  {
   "cell_type": "code",
   "execution_count": 2,
   "id": "2fee55e3",
   "metadata": {
    "scrolled": true
   },
   "outputs": [
    {
     "name": "stdout",
     "output_type": "stream",
     "text": [
      "  NP \n",
      "  |   \n",
      "  N  \n",
      "  |   \n",
      "Marge\n",
      "\n"
     ]
    }
   ],
   "source": [
    "np= nltk.Tree.fromstring('(NP (N Marge))')\n",
    "np.pretty_print()"
   ]
  },
  {
   "cell_type": "code",
   "execution_count": 3,
   "id": "0e04754e",
   "metadata": {},
   "outputs": [
    {
     "name": "stdout",
     "output_type": "stream",
     "text": [
      "AUX \n",
      " |   \n",
      "will\n",
      "\n"
     ]
    }
   ],
   "source": [
    "ar= nltk.Tree.fromstring('(AUX will)')\n",
    "ar.pretty_print()"
   ]
  },
  {
   "cell_type": "code",
   "execution_count": 4,
   "id": "275ab864",
   "metadata": {},
   "outputs": [
    {
     "name": "stdout",
     "output_type": "stream",
     "text": [
      "          VP             \n",
      "  ________|___            \n",
      " |            NP         \n",
      " |     _______|_____      \n",
      " V   DET      N     N    \n",
      " |    |       |     |     \n",
      "make  a      ham sandwich\n",
      "\n"
     ]
    }
   ],
   "source": [
    "tk= nltk.Tree.fromstring('(VP (V make) (NP (DET a) (N ham) (N sandwich)))')\n",
    "tk.pretty_print()"
   ]
  },
  {
   "cell_type": "markdown",
   "id": "27c86609",
   "metadata": {},
   "source": [
    "#### Exercise-II"
   ]
  },
  {
   "cell_type": "markdown",
   "id": "d1aaec42",
   "metadata": {},
   "source": [
    "##### Create a parse tree for phrase *old men and women*_. Is it _well formed sentence_ or ambiguous sentence?."
   ]
  },
  {
   "cell_type": "code",
   "execution_count": 5,
   "id": "57b39eb8",
   "metadata": {},
   "outputs": [
    {
     "name": "stdout",
     "output_type": "stream",
     "text": [
      "         NP           \n",
      "  _______|___          \n",
      " |           NP       \n",
      " |    _______|_____    \n",
      "Adj  N      Conj   N  \n",
      " |   |       |     |   \n",
      "old men     and  women\n",
      "\n"
     ]
    }
   ],
   "source": [
    "text1 = nltk.Tree.fromstring('(NP (Adj old) (NP (N men) (Conj and) (N women)))')\n",
    "text1.pretty_print()"
   ]
  },
  {
   "cell_type": "markdown",
   "id": "2f353af3",
   "metadata": {},
   "source": [
    " This is a well-formed sentence, as it follows the basic structure of subject-verb-object (though the verb is implied). It is not ambiguous, as the structure makes it clear that both \"men\" and \"women\" are being described as \"old.\""
   ]
  },
  {
   "cell_type": "markdown",
   "id": "15c936d8",
   "metadata": {},
   "source": [
    "#### Exercise-III\n",
    "##### Using them,build two tree objects,named s1 and s2, for the following sentences.The trees should look exactly like the ones shown below"
   ]
  },
  {
   "cell_type": "code",
   "execution_count": 6,
   "id": "3ba81b4a",
   "metadata": {},
   "outputs": [
    {
     "name": "stdout",
     "output_type": "stream",
     "text": [
      "            S                        \n",
      "   _________|________                 \n",
      "  |    |             VP              \n",
      "  |    |     ________|___             \n",
      "  NP   |    |            NP          \n",
      "  |    |    |     _______|______      \n",
      "  N   AUX   V   DET      N      N    \n",
      "  |    |    |    |       |      |     \n",
      "Marge will make  a      ham sandwitch\n",
      "\n"
     ]
    }
   ],
   "source": [
    "s1= nltk.Tree.fromstring('(S (NP (N Marge)) (AUX will) (VP (V make) (NP (DET a) (N ham) (N sandwitch))))')\n",
    "s1.pretty_print()"
   ]
  },
  {
   "cell_type": "code",
   "execution_count": 7,
   "id": "b70c6f32",
   "metadata": {},
   "outputs": [
    {
     "name": "stdout",
     "output_type": "stream",
     "text": [
      "            S                        \n",
      "  __________|________                 \n",
      " |     |             VP              \n",
      " |     |     ________|___             \n",
      " |     NP   |            NP          \n",
      " |     |    |     _______|______      \n",
      "AUX    N    V   DET      N      N    \n",
      " |     |    |    |       |      |     \n",
      "will Marge make  a      ham sandwitch\n",
      "\n"
     ]
    }
   ],
   "source": [
    "s2= nltk.Tree.fromstring('(S (AUX will) (NP (N Marge)) (VP (V make) (NP (DET a) (N ham) (N sandwitch))))')\n",
    "s2.pretty_print()"
   ]
  },
  {
   "cell_type": "markdown",
   "id": "4fd054d6",
   "metadata": {},
   "source": [
    "#### Exercise-4"
   ]
  },
  {
   "cell_type": "markdown",
   "id": "3ffac311",
   "metadata": {},
   "source": [
    "##### Build a tree object named s3 for the following sentence,using its full-sentence string representation."
   ]
  },
  {
   "cell_type": "code",
   "execution_count": 8,
   "id": "e1d695cf",
   "metadata": {},
   "outputs": [
    {
     "name": "stdout",
     "output_type": "stream",
     "text": [
      "       S                                 \n",
      "   ____|____________                      \n",
      "  |                 VP                   \n",
      "  |     ____________|________             \n",
      "  |    |       |             PP          \n",
      "  |    |       |          ___|___         \n",
      "  |    |       NP        |       NP      \n",
      "  |    |    ___|____     |    ___|____    \n",
      "  NP   |  DET       N    |  DET       NP \n",
      "  |    |   |        |    |   |        |   \n",
      "Homer ate the     donut  on the     table\n",
      "\n"
     ]
    }
   ],
   "source": [
    "s3= nltk.Tree.fromstring('(S (NP Homer) (VP ate (NP (DET the) (N donut)) (PP on (NP (DET the)(NP table)))))')\n",
    "s3.pretty_print()"
   ]
  },
  {
   "cell_type": "markdown",
   "id": "8b95ac6d",
   "metadata": {},
   "source": [
    "#### Exercise-5"
   ]
  },
  {
   "cell_type": "markdown",
   "id": "5fada882",
   "metadata": {},
   "source": [
    "##### Build tree objects named s4 and s5 for the following sentences."
   ]
  },
  {
   "cell_type": "code",
   "execution_count": 9,
   "id": "71df01a6",
   "metadata": {},
   "outputs": [
    {
     "name": "stdout",
     "output_type": "stream",
     "text": [
      "         S                      \n",
      "      ___|________               \n",
      "     |            VP            \n",
      "     |        ____|___           \n",
      "     |       |        PP        \n",
      "     |       |     ___|_____     \n",
      "     NP      |    |         NP  \n",
      "  ___|___    |    |         |    \n",
      " my old cat died  on     tuesday\n",
      "\n"
     ]
    }
   ],
   "source": [
    "s4= nltk.Tree.fromstring('(S (NP my old cat) (VP died (PP on (NP tuesday))))')\n",
    "s4.pretty_print()"
   ]
  },
  {
   "cell_type": "code",
   "execution_count": 10,
   "id": "31dcaf49",
   "metadata": {},
   "outputs": [
    {
     "name": "stdout",
     "output_type": "stream",
     "text": [
      "               S                            \n",
      "    ___________|________                     \n",
      "   |      |             VP                  \n",
      "   |      |     ________|____                \n",
      "   |      |    |             PP             \n",
      "   |      |    |     ________|____           \n",
      "   NP     |    VP   |             NP        \n",
      "   |      |    |    |         ____|_____     \n",
      "   N     AUX   V    P       DET         N   \n",
      "   |      |    |    |        |          |    \n",
      "children must play  in     their     friends\n",
      "\n"
     ]
    }
   ],
   "source": [
    "s5= nltk.Tree.fromstring('(S (NP (N children)) (AUX must) (VP (VP (V play)) (PP (P in) (NP(DET their) (N friends)))))')\n",
    "s5.pretty_print()"
   ]
  },
  {
   "cell_type": "markdown",
   "id": "ee898fce",
   "metadata": {},
   "source": [
    "#### Exercise-6"
   ]
  },
  {
   "cell_type": "code",
   "execution_count": 11,
   "id": "66e2e4c2",
   "metadata": {},
   "outputs": [
    {
     "name": "stdout",
     "output_type": "stream",
     "text": [
      "     VP          \n",
      "  ___|___         \n",
      " |       NP      \n",
      " |    ___|____    \n",
      " V  DET       N  \n",
      " |   |        |   \n",
      "ate the     donut\n",
      "\n"
     ]
    }
   ],
   "source": [
    "vp= nltk.Tree.fromstring('(VP (V ate) (NP (DET the) (N donut)))')\n",
    "vp.pretty_print()"
   ]
  },
  {
   "cell_type": "code",
   "execution_count": 12,
   "id": "584fe5d3",
   "metadata": {},
   "outputs": [
    {
     "name": "stdout",
     "output_type": "stream",
     "text": [
      "(VP (V ate) (NP (DET the) (N donut)))\n"
     ]
    }
   ],
   "source": [
    "print(vp)"
   ]
  },
  {
   "cell_type": "code",
   "execution_count": 13,
   "id": "1412fb86",
   "metadata": {},
   "outputs": [],
   "source": [
    "vp_rules=vp.productions()"
   ]
  },
  {
   "cell_type": "code",
   "execution_count": 14,
   "id": "50e7be78",
   "metadata": {},
   "outputs": [
    {
     "data": {
      "text/plain": [
       "[VP -> V NP, V -> 'ate', NP -> DET N, DET -> 'the', N -> 'donut']"
      ]
     },
     "execution_count": 14,
     "metadata": {},
     "output_type": "execute_result"
    }
   ],
   "source": [
    "vp_rules"
   ]
  },
  {
   "cell_type": "code",
   "execution_count": 15,
   "id": "1d981ccf",
   "metadata": {},
   "outputs": [
    {
     "data": {
      "text/plain": [
       "VP -> V NP"
      ]
     },
     "execution_count": 15,
     "metadata": {},
     "output_type": "execute_result"
    }
   ],
   "source": [
    "vp_rules[0]"
   ]
  },
  {
   "cell_type": "code",
   "execution_count": 16,
   "id": "b1e04b28",
   "metadata": {},
   "outputs": [
    {
     "data": {
      "text/plain": [
       "V -> 'ate'"
      ]
     },
     "execution_count": 16,
     "metadata": {},
     "output_type": "execute_result"
    }
   ],
   "source": [
    "vp_rules[1]"
   ]
  },
  {
   "cell_type": "code",
   "execution_count": 17,
   "id": "ec14cd96",
   "metadata": {},
   "outputs": [
    {
     "data": {
      "text/plain": [
       "False"
      ]
     },
     "execution_count": 17,
     "metadata": {},
     "output_type": "execute_result"
    }
   ],
   "source": [
    "vp_rules[0].is_lexical()"
   ]
  },
  {
   "cell_type": "code",
   "execution_count": 18,
   "id": "2a0480b0",
   "metadata": {},
   "outputs": [
    {
     "data": {
      "text/plain": [
       "True"
      ]
     },
     "execution_count": 18,
     "metadata": {},
     "output_type": "execute_result"
    }
   ],
   "source": [
    "vp_rules[1].is_lexical()"
   ]
  },
  {
   "cell_type": "markdown",
   "id": "86b08419",
   "metadata": {},
   "source": [
    "#### Explore the CF rules of s5.Include in your script the answers to the following:"
   ]
  },
  {
   "cell_type": "code",
   "execution_count": 19,
   "id": "f40ea52f",
   "metadata": {},
   "outputs": [
    {
     "data": {
      "text/plain": [
       "[S -> NP AUX VP,\n",
       " NP -> N,\n",
       " N -> 'children',\n",
       " AUX -> 'must',\n",
       " VP -> VP PP,\n",
       " VP -> V,\n",
       " V -> 'play',\n",
       " PP -> P NP,\n",
       " P -> 'in',\n",
       " NP -> DET N,\n",
       " DET -> 'their',\n",
       " N -> 'friends']"
      ]
     },
     "execution_count": 19,
     "metadata": {},
     "output_type": "execute_result"
    }
   ],
   "source": [
    "s5_rules=s5.productions()\n",
    "s5_rules"
   ]
  },
  {
   "cell_type": "markdown",
   "id": "b6c931d9",
   "metadata": {},
   "source": [
    "##### a. How many CF  rules are used in s5?"
   ]
  },
  {
   "cell_type": "code",
   "execution_count": 20,
   "id": "274ba88c",
   "metadata": {},
   "outputs": [
    {
     "data": {
      "text/plain": [
       "12"
      ]
     },
     "execution_count": 20,
     "metadata": {},
     "output_type": "execute_result"
    }
   ],
   "source": [
    "len(s5_rules)"
   ]
  },
  {
   "cell_type": "markdown",
   "id": "a773fc67",
   "metadata": {},
   "source": [
    "##### b. How many unique CF rules are used in s5?"
   ]
  },
  {
   "cell_type": "code",
   "execution_count": 21,
   "id": "cfb49183",
   "metadata": {},
   "outputs": [
    {
     "data": {
      "text/plain": [
       "12"
      ]
     },
     "execution_count": 21,
     "metadata": {},
     "output_type": "execute_result"
    }
   ],
   "source": [
    "st= npt.array(s5_rules)\n",
    "len(npt.unique(st))"
   ]
  },
  {
   "cell_type": "markdown",
   "id": "8bd7cf51",
   "metadata": {},
   "source": [
    "##### c. How many of them are lexical?"
   ]
  },
  {
   "cell_type": "code",
   "execution_count": 22,
   "id": "40435050",
   "metadata": {},
   "outputs": [
    {
     "name": "stdout",
     "output_type": "stream",
     "text": [
      "1\n",
      "2\n",
      "3\n",
      "4\n",
      "5\n",
      "6\n"
     ]
    }
   ],
   "source": [
    "n= 0\n",
    "for i in s5_rules:\n",
    "    if i.is_lexical():\n",
    "        n= n+1\n",
    "        print(n)"
   ]
  },
  {
   "cell_type": "code",
   "execution_count": null,
   "id": "14b249c0",
   "metadata": {},
   "outputs": [],
   "source": []
  }
 ],
 "metadata": {
  "kernelspec": {
   "display_name": "Python 3 (ipykernel)",
   "language": "python",
   "name": "python3"
  },
  "language_info": {
   "codemirror_mode": {
    "name": "ipython",
    "version": 3
   },
   "file_extension": ".py",
   "mimetype": "text/x-python",
   "name": "python",
   "nbconvert_exporter": "python",
   "pygments_lexer": "ipython3",
   "version": "3.9.12"
  }
 },
 "nbformat": 4,
 "nbformat_minor": 5
}
