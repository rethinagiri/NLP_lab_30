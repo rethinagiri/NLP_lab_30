{
 "cells": [
  {
   "cell_type": "markdown",
   "id": "e4609d27",
   "metadata": {},
   "source": [
    "## NAME :RETHINAGIRI G\n",
    "## ROLL NO : 225229130\n",
    "## COURSE TITLE : NATURAL LANGUAGE PRE-PROCESSING LAB\n",
    "### -------------------------------------------------------------------------------------------------------------------\n",
    "### LAB.08  Exploring Part of Speech Tagging on Large Text Files"
   ]
  },
  {
   "cell_type": "markdown",
   "id": "a17b36ee",
   "metadata": {},
   "source": [
    "##     "
   ]
  },
  {
   "cell_type": "markdown",
   "id": "1975ffc2",
   "metadata": {},
   "source": [
    "### 1. Open any movie file from your movies sub directory"
   ]
  },
  {
   "cell_type": "code",
   "execution_count": 1,
   "id": "9483cd4f",
   "metadata": {},
   "outputs": [],
   "source": [
    "import pandas as pan"
   ]
  },
  {
   "cell_type": "code",
   "execution_count": 3,
   "id": "9a2be6b3",
   "metadata": {},
   "outputs": [],
   "source": [
    "import glob\n",
    "import nltk"
   ]
  },
  {
   "cell_type": "code",
   "execution_count": 4,
   "id": "23e7b633",
   "metadata": {},
   "outputs": [
    {
     "name": "stdout",
     "output_type": "stream",
     "text": [
      "File Name                                             Modified             Size\n",
      "movies/                                        2018-01-19 08:32:38            0\n",
      "movies/12 Angry Men.txt                        2018-01-17 20:40:42         1007\n",
      "movies/12 Years a Slave.txt                    2018-01-17 20:42:50         6451\n",
      "movies/4 Months, 3 Weeks and 2 Days.txt        2018-01-17 20:37:10         1151\n",
      "movies/All About Eve.txt                       2018-01-17 20:33:18         1346\n",
      "movies/American Graffiti.txt                   2018-01-17 20:44:30         3417\n",
      "movies/Boyhood.txt                             2018-01-17 20:27:14         1970\n",
      "movies/Casablanca.txt                          2018-01-17 20:26:26         1896\n",
      "movies/Citizen Kane.txt                        2018-01-17 20:23:56         1483\n",
      "movies/Gone with the Wind.txt                  2018-01-17 20:38:10         1318\n",
      "movies/Hoop Dreams.txt                         2018-01-17 20:34:12         7909\n",
      "movies/Manchester by the Sea.txt               2018-01-17 20:40:06         3674\n",
      "movies/Moonlight.txt                           2018-01-17 20:31:42         2323\n",
      "movies/My Left Foot.txt                        2018-01-17 20:38:50         1115\n",
      "movies/Pan's Labyrinth.txt                     2018-01-17 20:32:18         4431\n",
      "movies/Psycho.txt                              2018-01-17 20:34:46         3727\n",
      "movies/Ran.txt                                 2018-01-17 20:43:48         2207\n",
      "movies/Singin' in the Rain.txt                 2018-01-17 20:29:42          782\n",
      "movies/Some Like It Hot.txt                    2018-01-17 20:35:40         7489\n",
      "movies/The Godfather.txt                       2018-01-17 20:25:32         4293\n",
      "movies/Three Colors Red.txt                    2018-01-17 20:28:22         2892\n"
     ]
    }
   ],
   "source": [
    "f=\"movies.zip\"\n",
    "with ZipFile(f,\"r\") as file:\n",
    "    file.printdir()\n",
    "    file.extractall('.')"
   ]
  },
  {
   "cell_type": "code",
   "execution_count": 5,
   "id": "2723d06f",
   "metadata": {},
   "outputs": [
    {
     "name": "stdout",
     "output_type": "stream",
     "text": [
      "In one second, the time it takes to look away from the road to tune a car radio, drop a book to the street, or bump into a stranger, the path of one's life can be drastically altered, as well as the lives of people not even known. Red, a masterful film of chance encounters, parallel lives, mysterious coincidence, and mutual wonderment, is the latest from director Krzysztof Kieslowski. The final and best chapter of his “Three Colors” trilogy, based on the colors of the French flag (blue/liberty, white/equality, red/fraternity), Red seems at first more about isolation than fraternity. The young model Valentine (Jacob, from Kieslowski's The Double Life of Veronique) leads a mundane existence, prolonging a brittle long-distance relationship. She has never met Auguste (Lorit), a law student who lives right around the corner. The retired judge (Trintignant) spends his days eavesdropping on others, seemingly having given up on a life of his own. When Valentine appears at the judge's door with his injured dog, she is rudely dismissed. Repulsed by his indifference and his eavesdropping, Valentine nonetheless returns to him, and slowly, like absorbing the warmth of the sun, they are drawn to each other, opening up in completely unexpected ways. Together with longtime collaborator Krzysztof Piesiewicz, Kieslowski has devised an utterly contemporary fable, imbued with a richness and complexity, yet so understated that the visuals often carry the story. Haunting imagery, swathed in red, permeates the screen. Red holds on to its mysteries tenaciously, revealing them slowly, if ever. Kieslowski's detractors label him pretentious and murky, and they are not likely to change their minds here. Yet Kieslowski understands that life's beauty is not in spite of the unexpected and unexplained, but because of it. The improbabilities of chance are endless; what might have happened if you'd been looking the other way, spoken to the person sitting next to you, been born 20 years earlier… as in life, you never know where this story is going. The film courses with vitality -- and makes you glad to be alive. Kieslowski's deft touch gives Red its real magic; in the end, the subtle nuances are what stay with you: a ringing phone just out of reach, late afternoon sunlight brushing across a face, a shattered beer glass in a bowling alley. Despite the neat tie-in at the film's conclusion, you need not have seen the other two films in this series to follow what is going on here (though both Blue and White are on video and recommended). Kieslowski, who finds the filmmaking process arduous, has announced his retirement. At age 53, with only a handful of remarkable features to his name (including the epic Decalogue), it remains to be seen whether he will keep his word, but either way, he could not have chosen a more memorable testament to his singular talent and vision than Red.\n"
     ]
    }
   ],
   "source": [
    "files=[file for file in glob.glob(\"movies/*\")]\n",
    "with open (files[19],'r',encoding=\"cp1252\") as f:\n",
    " count =f.read()\n",
    " print(count)\n"
   ]
  },
  {
   "cell_type": "markdown",
   "id": "eaa505e4",
   "metadata": {},
   "source": [
    "### a. How many sentences in the file?"
   ]
  },
  {
   "cell_type": "code",
   "execution_count": 6,
   "id": "a8dfbd3f",
   "metadata": {},
   "outputs": [
    {
     "name": "stderr",
     "output_type": "stream",
     "text": [
      "[nltk_data] Downloading package punkt to\n",
      "[nltk_data]     C:\\Users\\user\\AppData\\Roaming\\nltk_data...\n",
      "[nltk_data]   Package punkt is already up-to-date!\n"
     ]
    },
    {
     "data": {
      "text/plain": [
       "True"
      ]
     },
     "execution_count": 6,
     "metadata": {},
     "output_type": "execute_result"
    }
   ],
   "source": [
    "nltk.download('punkt')"
   ]
  },
  {
   "cell_type": "code",
   "execution_count": 7,
   "id": "d007d40f",
   "metadata": {},
   "outputs": [
    {
     "data": {
      "text/plain": [
       "19"
      ]
     },
     "execution_count": 7,
     "metadata": {},
     "output_type": "execute_result"
    }
   ],
   "source": [
    "from nltk.tokenize import sent_tokenize\n",
    "sentences=sent_tokenize(count)\n",
    "len(sentences)\n"
   ]
  },
  {
   "cell_type": "markdown",
   "id": "b960d8b4",
   "metadata": {},
   "source": [
    "### b. How many words in the file?"
   ]
  },
  {
   "cell_type": "code",
   "execution_count": 8,
   "id": "e9c29fe2",
   "metadata": {},
   "outputs": [
    {
     "data": {
      "text/plain": [
       "569"
      ]
     },
     "execution_count": 8,
     "metadata": {},
     "output_type": "execute_result"
    }
   ],
   "source": [
    "from nltk.tokenize import word_tokenize\n",
    "word=word_tokenize(count)\n",
    "len(word)\n"
   ]
  },
  {
   "cell_type": "markdown",
   "id": "a279e2a3",
   "metadata": {},
   "source": [
    "### c. What are the top 10 words and their counts?"
   ]
  },
  {
   "cell_type": "code",
   "execution_count": 9,
   "id": "872a11f8",
   "metadata": {},
   "outputs": [
    {
     "data": {
      "text/plain": [
       "FreqDist({',': 46, 'the': 25, '.': 19, 'a': 15, 'to': 14, 'of': 13, 'and': 12, 'his': 10, \"'s\": 7, 'Kieslowski': 7, ...})"
      ]
     },
     "execution_count": 9,
     "metadata": {},
     "output_type": "execute_result"
    }
   ],
   "source": [
    "from nltk import *\n",
    "freq_word=FreqDist(word)\n",
    "freq_word"
   ]
  },
  {
   "cell_type": "code",
   "execution_count": 10,
   "id": "56e859c9",
   "metadata": {},
   "outputs": [
    {
     "data": {
      "text/plain": [
       "[(',', 46),\n",
       " ('the', 25),\n",
       " ('.', 19),\n",
       " ('a', 15),\n",
       " ('to', 14),\n",
       " ('of', 13),\n",
       " ('and', 12),\n",
       " ('his', 10),\n",
       " (\"'s\", 7),\n",
       " ('Kieslowski', 7)]"
      ]
     },
     "execution_count": 10,
     "metadata": {},
     "output_type": "execute_result"
    }
   ],
   "source": [
    "freq_word.most_common(10)"
   ]
  },
  {
   "cell_type": "markdown",
   "id": "bef51406",
   "metadata": {},
   "source": [
    "### d. How many different POS tags are represented in this file?"
   ]
  },
  {
   "cell_type": "code",
   "execution_count": 11,
   "id": "8bc18c4d",
   "metadata": {},
   "outputs": [],
   "source": [
    "from nltk.corpus import stopwords\n",
    "stop_words=set(stopwords.words('english'))"
   ]
  },
  {
   "cell_type": "code",
   "execution_count": 12,
   "id": "fdfa4804",
   "metadata": {},
   "outputs": [
    {
     "name": "stderr",
     "output_type": "stream",
     "text": [
      "[nltk_data] Downloading package averaged_perceptron_tagger to\n",
      "[nltk_data]     C:\\Users\\user\\AppData\\Roaming\\nltk_data...\n",
      "[nltk_data]   Package averaged_perceptron_tagger is already up-to-\n",
      "[nltk_data]       date!\n"
     ]
    },
    {
     "data": {
      "text/plain": [
       "True"
      ]
     },
     "execution_count": 12,
     "metadata": {},
     "output_type": "execute_result"
    }
   ],
   "source": [
    "nltk.download('averaged_perceptron_tagger')"
   ]
  },
  {
   "cell_type": "code",
   "execution_count": 13,
   "id": "c0267f96",
   "metadata": {},
   "outputs": [
    {
     "data": {
      "text/plain": [
       "26"
      ]
     },
     "execution_count": 13,
     "metadata": {},
     "output_type": "execute_result"
    }
   ],
   "source": [
    "tag=[]\n",
    "d_tags=[]\n",
    "word=[w for w in word if not w in stop_words]\n",
    "tagged=nltk.pos_tag(word)\n",
    "for i in tagged:\n",
    "    (word,pos)=i\n",
    "    tag.append(pos)\n",
    "for j in tag :\n",
    "    if j not in d_tags:\n",
    "        d_tags.append(j)\n",
    "len(d_tags)"
   ]
  },
  {
   "cell_type": "markdown",
   "id": "55910345",
   "metadata": {},
   "source": [
    "### e. What are the top 10 POS tags and their counts?"
   ]
  },
  {
   "cell_type": "code",
   "execution_count": 14,
   "id": "b16639e9",
   "metadata": {},
   "outputs": [
    {
     "data": {
      "text/plain": [
       "[((',', ','), 46),\n",
       " (('.', '.'), 19),\n",
       " ((\"'s\", 'POS'), 7),\n",
       " (('Kieslowski', 'NNP'), 7),\n",
       " (('The', 'DT'), 6),\n",
       " (('(', '('), 6),\n",
       " ((')', ')'), 6),\n",
       " (('life', 'NN'), 4),\n",
       " (('Red', 'NNP'), 4),\n",
       " (('film', 'NN'), 3)]"
      ]
     },
     "execution_count": 14,
     "metadata": {},
     "output_type": "execute_result"
    }
   ],
   "source": [
    "top_pos=FreqDist(tagged)\n",
    "top_pos.most_common(10)"
   ]
  },
  {
   "cell_type": "markdown",
   "id": "f5e9a3f7",
   "metadata": {},
   "source": [
    "### f. How many nouns in the file?"
   ]
  },
  {
   "cell_type": "code",
   "execution_count": 17,
   "id": "e039733d",
   "metadata": {},
   "outputs": [
    {
     "name": "stdout",
     "output_type": "stream",
     "text": [
      "114\n"
     ]
    }
   ],
   "source": [
    "noun=0\n",
    "for i in top_pos.keys():\n",
    "    (word,pos)=i\n",
    "    if pos == 'NN' or pos == 'NNS' or pos == 'NNP' or pos == 'NNPS':\n",
    "        noun+=1\n",
    "print(noun)"
   ]
  },
  {
   "cell_type": "markdown",
   "id": "e09ba399",
   "metadata": {},
   "source": [
    "### g. How many verbs in the file?"
   ]
  },
  {
   "cell_type": "code",
   "execution_count": 18,
   "id": "26688796",
   "metadata": {},
   "outputs": [
    {
     "name": "stdout",
     "output_type": "stream",
     "text": [
      "41\n"
     ]
    }
   ],
   "source": [
    "verbs=0\n",
    "for i in top_pos.keys():\n",
    "    (word,pos)=i\n",
    "    if pos == 'VB' or pos == 'VBD' or pos == 'VBN' or pos == 'VBP' or pos == 'VBZ':\n",
    "        verbs+=1\n",
    "print(verbs)"
   ]
  },
  {
   "cell_type": "markdown",
   "id": "4918cf8e",
   "metadata": {},
   "source": [
    "### h. How many adjectives in the file?\n"
   ]
  },
  {
   "cell_type": "code",
   "execution_count": 19,
   "id": "470f26f5",
   "metadata": {},
   "outputs": [
    {
     "data": {
      "text/plain": [
       "40"
      ]
     },
     "execution_count": 19,
     "metadata": {},
     "output_type": "execute_result"
    }
   ],
   "source": [
    "adj = []\n",
    "for i in top_pos.keys():\n",
    "    (word,pos)=i\n",
    "    if pos == 'JJ' or pos == 'JJR' or pos == 'JJS':\n",
    "        adj.append(i)\n",
    "len(adj)\n"
   ]
  },
  {
   "cell_type": "markdown",
   "id": "142fa3e5",
   "metadata": {},
   "source": [
    "### i. How many adverbs in the file?\n"
   ]
  },
  {
   "cell_type": "code",
   "execution_count": 20,
   "id": "cc79dcdf",
   "metadata": {},
   "outputs": [
    {
     "data": {
      "text/plain": [
       "15"
      ]
     },
     "execution_count": 20,
     "metadata": {},
     "output_type": "execute_result"
    }
   ],
   "source": [
    "adv=[]\n",
    "for i in top_pos.keys():\n",
    "    (word,pos)=i\n",
    "    if pos == 'RB' or pos == 'RBR' or pos == 'RBS' or pos == 'BP':\n",
    "        adv.append(i)\n",
    "len(adv)"
   ]
  },
  {
   "cell_type": "markdown",
   "id": "7977b886",
   "metadata": {},
   "source": [
    "### j. What is the most frequent adverb ?"
   ]
  },
  {
   "cell_type": "code",
   "execution_count": 21,
   "id": "802cf8e7",
   "metadata": {},
   "outputs": [
    {
     "data": {
      "text/plain": [
       "[(('away', 'RB'), 1)]"
      ]
     },
     "execution_count": 21,
     "metadata": {},
     "output_type": "execute_result"
    }
   ],
   "source": [
    "adv = FreqDist(adv)\n",
    "adv.most_common(1)"
   ]
  },
  {
   "cell_type": "markdown",
   "id": "f8a83467",
   "metadata": {},
   "source": [
    "### k. What is the most frequent adjective?"
   ]
  },
  {
   "cell_type": "code",
   "execution_count": 22,
   "id": "e0b0b7bd",
   "metadata": {},
   "outputs": [
    {
     "data": {
      "text/plain": [
       "[(('masterful', 'JJ'), 1)]"
      ]
     },
     "execution_count": 22,
     "metadata": {},
     "output_type": "execute_result"
    }
   ],
   "source": [
    "adj = FreqDist(adj)\n",
    "adj.most_common(1)"
   ]
  }
 ],
 "metadata": {
  "kernelspec": {
   "display_name": "Python 3 (ipykernel)",
   "language": "python",
   "name": "python3"
  },
  "language_info": {
   "codemirror_mode": {
    "name": "ipython",
    "version": 3
   },
   "file_extension": ".py",
   "mimetype": "text/x-python",
   "name": "python",
   "nbconvert_exporter": "python",
   "pygments_lexer": "ipython3",
   "version": "3.9.12"
  }
 },
 "nbformat": 4,
 "nbformat_minor": 5
}
